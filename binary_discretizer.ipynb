{
 "cells": [
  {
   "cell_type": "code",
   "execution_count": 1,
   "metadata": {},
   "outputs": [],
   "source": [
    "import numpy as np\n",
    "import jax\n",
    "import jax.numpy as jnp\n",
    "from jax import jit,vmap\n",
    "import torch\n",
    "import matplotlib.pyplot as plt\n",
    "import seaborn as sns\n",
    "from tqdm import tqdm_notebook as tqdm"
   ]
  },
  {
   "cell_type": "code",
   "execution_count": 2,
   "metadata": {},
   "outputs": [],
   "source": [
    "means = np.array([-.3,2,3])\n",
    "sigmas = np.array([1,2.5,.7])\n",
    "ps = np.array([.2,.5,.3])\n",
    "def gmm_samples(N):\n",
    "    c = 2\n",
    "    i = np.random.choice(len(means),N,p=ps)\n",
    "    z = np.random.randn(N)\n",
    "    return z*sigmas[i]+means[i]"
   ]
  },
  {
   "cell_type": "code",
   "execution_count": 3,
   "metadata": {},
   "outputs": [
    {
     "data": {
      "text/plain": [
       "<matplotlib.axes._subplots.AxesSubplot at 0x7f9fb5c47710>"
      ]
     },
     "execution_count": 3,
     "metadata": {},
     "output_type": "execute_result"
    },
    {
     "data": {
      "image/png": "[encoded data removed]",
      "text/plain": [
       "<Figure size 432x288 with 1 Axes>"
      ]
     },
     "metadata": {
      "needs_background": "light"
     },
     "output_type": "display_data"
    }
   ],
   "source": [
    "x = gmm_samples(20000)\n",
    "x = (x+5)/15\n",
    "x=x[(x<1)&(x>0)]\n",
    "sns.distplot(x)"
   ]
  },
  {
   "cell_type": "code",
   "execution_count": 165,
   "metadata": {},
   "outputs": [],
   "source": [
    "default_bits=12\n",
    "@jit\n",
    "def data2bits(val,prec=default_bits):\n",
    "    \"\"\" returns the sequence of bits for a number up to 2^(-num_bits) precision (between 0 and 1)\"\"\"\n",
    "    labels = []\n",
    "    for i in range(prec):\n",
    "        labels.append((val>.5).astype(np.int32))\n",
    "        val = 2*(val-(val>.5)*.5)\n",
    "    return jnp.array(labels)\n",
    "\n",
    "@jit\n",
    "def bits2samples(bits):\n",
    "    val = 0.\n",
    "    for i,b in enumerate(bits):\n",
    "        val += b/2**(i+1)\n",
    "    val += np.random.rand()/2**(len(bits)+1)\n",
    "    return val"
   ]
  },
  {
   "cell_type": "code",
   "execution_count": null,
   "metadata": {},
   "outputs": [],
   "source": []
  },
  {
   "cell_type": "code",
   "execution_count": 166,
   "metadata": {},
   "outputs": [],
   "source": [
    "# b = vmap(data2bits)(x)\n",
    "# sns.distplot(x)\n",
    "# sns.distplot(vmap(bits2samples)(b))"
   ]
  },
  {
   "cell_type": "code",
   "execution_count": 191,
   "metadata": {},
   "outputs": [],
   "source": [
    "def sample_data(N):\n",
    "    z = gmm_samples(N)\n",
    "    z = (z+5)/15\n",
    "    z=z[(z<1)&(z>0)]\n",
    "    return z\n",
    "z =sample_data(1000)\n",
    "dataset = vmap(data2bits)(z)\n",
    "dataset = torch.from_numpy(np.asarray(dataset))\n",
    "ds =torch.cat([2*torch.ones(dataset.shape[0],1,device=dataset.device,dtype=dataset.dtype),dataset],dim=1).long()"
   ]
  },
  {
   "cell_type": "code",
   "execution_count": 192,
   "metadata": {},
   "outputs": [],
   "source": [
    "import torch.nn as nn\n",
    "import torch.nn.functional as F\n",
    "\n",
    "class GRUautoregressor(nn.Module):\n",
    "    def __init__(self,classes,hidden_units):\n",
    "        super().__init__()\n",
    "        self.classes=classes\n",
    "        self.in_embedding = nn.Embedding(classes+1,hidden_units)\n",
    "        self.gru = nn.GRU(hidden_units,hidden_units,batch_first=True)\n",
    "        self.out_embedding = nn.Linear(hidden_units,classes+1)\n",
    "        self.k = hidden_units\n",
    "    def forward(self,X,h0=None):\n",
    "        \"\"\" [X (bs,N)], [h0 (bs,k)] -> [X_logp (bs,N,classes)] \"\"\"\n",
    "        if h0 is None: h0 = torch.zeros(X.shape[0],self.k,device=X.device)\n",
    "        out = self.in_embedding(X)\n",
    "        Y,hf = self.gru(out,h0[None])\n",
    "        X_out_logits = self.out_embedding(Y)\n",
    "        X_logp = F.log_softmax(X_out_logits,dim=-1)\n",
    "        return X_logp\n",
    "    def sample(self,bs):\n",
    "        X = [2*torch.ones(bs).long()]\n",
    "        hi = torch.zeros(bs,self.k)\n",
    "        for i in range(default_bits):\n",
    "            inn = self.in_embedding(X[-1])\n",
    "            Y, hi = self.gru(inn.unsqueeze(1),hi.unsqueeze(0))\n",
    "            hi = hi.squeeze(0)\n",
    "            Xprobs = F.softmax(self.out_embedding(Y.squeeze(1))[:,:-1],dim=-1) #(bs,C-1) #exclude stop token\n",
    "            dist = torch.distributions.categorical.Categorical(Xprobs)\n",
    "            X.append(dist.sample())\n",
    "        return torch.stack(X[1:],dim=1)\n",
    "    \n",
    "    def density(self):\n",
    "        bs = 2**default_bits\n",
    "        all_seqs = vmap(data2bits)(np.arange(bs)/bs)\n",
    "        all_seqs = torch.from_numpy(np.asarray(all_seqs)).long()\n",
    "        all_seqs0 = torch.cat([2*torch.ones(all_seqs.shape[0],1,device=all_seqs.device,dtype=all_seqs.dtype),all_seqs],dim=1)\n",
    "        \n",
    "        logps = self.forward(all_seqs0)[:,:-1,:-1][np.arange(bs)[:,None],np.arange(default_bits)[None],all_seqs] #(bs,N)\n",
    "        ps = logps.sum(1).exp()\n",
    "        return ps*2**default_bits\n",
    "        \n",
    "            \n",
    "    \n",
    "def loss(model,seq):\n",
    "    target = torch.roll(seq,-1,1)\n",
    "    pred_logp = model(seq) #(bs,N,classes)\n",
    "    return F.nll_loss(pred_logp.reshape(-1,pred_logp.shape[-1]),target.reshape(-1))\n",
    "\n",
    "\n",
    "def batches(ds,bs):\n",
    "    ids = np.random.permutation(len(ds))\n",
    "    count = 0\n",
    "    while count<len(ds):\n",
    "        yield ds[ids[count:count+bs]]\n",
    "        count+=bs"
   ]
  },
  {
   "cell_type": "code",
   "execution_count": 197,
   "metadata": {},
   "outputs": [
    {
     "name": "stderr",
     "output_type": "stream",
     "text": [
      "/home/marc/anaconda3/envs/default/lib/python3.7/site-packages/ipykernel_launcher.py:6: TqdmDeprecationWarning: This function will be removed in tqdm==5.0.0\n",
      "Please use `tqdm.notebook.tqdm` instead of `tqdm.tqdm_notebook`\n",
      "  \n"
     ]
    },
    {
     "data": {
      "application/vnd.jupyter.widget-view+json": {
       "model_id": "f9e9197af88448cea9347111708c313d",
       "version_major": 2,
       "version_minor": 0
      },
      "text/plain": [
       "HBox(children=(FloatProgress(value=0.0), HTML(value='')))"
      ]
     },
     "metadata": {},
     "output_type": "display_data"
    },
    {
     "name": "stdout",
     "output_type": "stream",
     "text": [
      "\n"
     ]
    }
   ],
   "source": [
    "model = GRUautoregressor(2,64)\n",
    "optim = torch.optim.AdamW(model.parameters(), lr=3e-3,weight_decay=1e-2)\n",
    "\n",
    "samples = []\n",
    "losses = []\n",
    "for epoch in tqdm(range(100)):\n",
    "    for i, x in enumerate(batches(ds,bs=50)):\n",
    "        optim.zero_grad()\n",
    "        L = loss(model,x)\n",
    "        L.backward()\n",
    "        optim.step()\n",
    "    losses.append(L)\n",
    "    if not epoch%10:\n",
    "        samples.append(vmap(bits2samples)(model.sample(10000).data.numpy()))\n",
    "    "
   ]
  },
  {
   "cell_type": "code",
   "execution_count": 194,
   "metadata": {},
   "outputs": [],
   "source": [
    "#plt.plot(np.arange(2**default_bits)/2**default_bits,2**default_bits*model.density().data.numpy())"
   ]
  },
  {
   "cell_type": "code",
   "execution_count": null,
   "metadata": {},
   "outputs": [],
   "source": []
  },
  {
   "cell_type": "code",
   "execution_count": 198,
   "metadata": {},
   "outputs": [
    {
     "data": {
      "text/plain": [
       "<matplotlib.legend.Legend at 0x7f9e149a5bd0>"
      ]
     },
     "execution_count": 198,
     "metadata": {},
     "output_type": "execute_result"
    },
    {
     "data": {
      "image/png": "[encoded data removed]",
      "text/plain": [
       "<Figure size 432x288 with 1 Axes>"
      ]
     },
     "metadata": {
      "needs_background": "light"
     },
     "output_type": "display_data"
    }
   ],
   "source": [
    "prec=5\n",
    "\n",
    "#plt.hist(z,bins=np.arange(2**prec)/2**prec,label='Binned',density=True,color='purple',alpha=.3)\n",
    "plt.plot(np.arange(2**default_bits)/2**default_bits,model.density().data.numpy(),label='fit',alpha=.3)\n",
    "#sns.distplot(z,label='Train Data (1k)')\n",
    "sns.distplot(z,label='GT (1k)')\n",
    "\n",
    "sns.distplot(samples[-1],label='Fit')\n",
    "\n",
    "plt.legend()"
   ]
  },
  {
   "cell_type": "code",
   "execution_count": 199,
   "metadata": {},
   "outputs": [
    {
     "data": {
      "text/plain": [
       "<matplotlib.legend.Legend at 0x7f9e14816f10>"
      ]
     },
     "execution_count": 199,
     "metadata": {},
     "output_type": "execute_result"
    },
    {
     "data": {
      "image/png": "[encoded data removed]",
      "text/plain": [
       "<Figure size 432x288 with 1 Axes>"
      ]
     },
     "metadata": {
      "needs_background": "light"
     },
     "output_type": "display_data"
    }
   ],
   "source": [
    "prec=5\n",
    "\n",
    "#plt.hist(z,bins=np.arange(2**prec)/2**prec,label='Binned',density=True,color='purple',alpha=.3)\n",
    "plt.plot(np.arange(2**default_bits)/2**default_bits,np.cumsum(model.density().data.numpy())/2**default_bits,label='fit',alpha=.3,color='purple')\n",
    "#sns.distplot(z,label='Train Data (1k)')\n",
    "sorted_z = np.sort(z)\n",
    "plt.plot(sorted_z,(np.arange(len(z))+.5)/len(z),label='Empirical CDF (1k dataset)',alpha=.3,color='k')\n",
    "z2 = sample_data(10000)\n",
    "sorted_z2 = np.sort(z2)\n",
    "plt.plot(sorted_z2,(np.arange(len(z2))+.5)/len(z2),label='Empirical CDF (10k dataset)',alpha=.3,color='k')\n",
    "plt.xlabel('X')\n",
    "plt.ylabel('CDF')\n",
    "\n",
    "#sns.distplot(samples[-1],label='Fit')\n",
    "\n",
    "plt.legend()"
   ]
  },
  {
   "cell_type": "code",
   "execution_count": 35,
   "metadata": {},
   "outputs": [],
   "source": [
    "p = torch.tensor([[.5,.3],[.1,.8],[.3,.6]])"
   ]
  },
  {
   "cell_type": "code",
   "execution_count": 36,
   "metadata": {},
   "outputs": [
    {
     "data": {
      "text/plain": [
       "torch.Size([3, 2])"
      ]
     },
     "execution_count": 36,
     "metadata": {},
     "output_type": "execute_result"
    }
   ],
   "source": [
    "p.shape"
   ]
  },
  {
   "cell_type": "code",
   "execution_count": 37,
   "metadata": {},
   "outputs": [],
   "source": [
    "d = torch.distributions.categorical.Categorical(p)"
   ]
  },
  {
   "cell_type": "code",
   "execution_count": 38,
   "metadata": {},
   "outputs": [
    {
     "data": {
      "text/plain": [
       "torch.Size([10, 3])"
      ]
     },
     "execution_count": 38,
     "metadata": {},
     "output_type": "execute_result"
    }
   ],
   "source": [
    "d.sample((10,)).shape"
   ]
  },
  {
   "cell_type": "code",
   "execution_count": 45,
   "metadata": {},
   "outputs": [
    {
     "data": {
      "text/plain": [
       "tensor([0, 0, 0])"
      ]
     },
     "execution_count": 45,
     "metadata": {},
     "output_type": "execute_result"
    }
   ],
   "source": [
    "d.sample()"
   ]
  },
  {
   "cell_type": "code",
   "execution_count": null,
   "metadata": {},
   "outputs": [],
   "source": []
  }
 ],
 "metadata": {
  "kernelspec": {
   "display_name": "Python 3",
   "language": "python",
   "name": "python3"
  },
  "language_info": {
   "codemirror_mode": {
    "name": "ipython",
    "version": 3
   },
   "file_extension": ".py",
   "mimetype": "text/x-python",
   "name": "python",
   "nbconvert_exporter": "python",
   "pygments_lexer": "ipython3",
   "version": "3.7.4"
  }
 },
 "nbformat": 4,
 "nbformat_minor": 2
}
